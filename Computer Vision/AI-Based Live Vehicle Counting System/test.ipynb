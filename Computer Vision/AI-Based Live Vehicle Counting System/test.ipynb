{
 "cells": [
  {
   "cell_type": "code",
   "execution_count": 1,
   "id": "52e8f319-7fe8-401b-8601-5b10e9e9eafd",
   "metadata": {
    "tags": []
   },
   "outputs": [],
   "source": [
    "from vidgear.gears import CamGear\n",
    "import cv2\n",
    "\n",
    "stream = CamGear(source=0).start()  \n",
    "\n",
    "\n",
    "while True:\n",
    "    frame = stream.read()\n",
    "    if frame is None:\n",
    "        break\n",
    "    cv2.imshow(\"Output Frame\", frame)\n",
    "    if cv2.waitKey(1) & 0xFF == ord(\"q\"):\n",
    "        break\n",
    "\n",
    "\n",
    "cv2.destroyAllWindows()\n",
    "stream.stop()\n"
   ]
  },
  {
   "cell_type": "code",
   "execution_count": 4,
   "id": "1586f75b-0e01-4bab-844e-f885f3c16ce5",
   "metadata": {
    "tags": []
   },
   "outputs": [
    {
     "ename": "ModuleNotFoundError",
     "evalue": "No module named 'mediapipe'",
     "output_type": "error",
     "traceback": [
      "\u001b[1;31m---------------------------------------------------------------------------\u001b[0m",
      "\u001b[1;31mModuleNotFoundError\u001b[0m                       Traceback (most recent call last)",
      "Cell \u001b[1;32mIn[4], line 2\u001b[0m\n\u001b[0;32m      1\u001b[0m \u001b[38;5;28;01mimport\u001b[39;00m \u001b[38;5;21;01mcv2\u001b[39;00m\n\u001b[1;32m----> 2\u001b[0m \u001b[38;5;28;01mfrom\u001b[39;00m \u001b[38;5;21;01mcvzone\u001b[39;00m\u001b[38;5;21;01m.\u001b[39;00m\u001b[38;5;21;01mHandTrackingModule\u001b[39;00m \u001b[38;5;28;01mimport\u001b[39;00m HandDetector\n\u001b[0;32m      4\u001b[0m \u001b[38;5;66;03m# Initialize the video feed and hand detector\u001b[39;00m\n\u001b[0;32m      5\u001b[0m cap \u001b[38;5;241m=\u001b[39m cv2\u001b[38;5;241m.\u001b[39mVideoCapture(\u001b[38;5;241m0\u001b[39m)\n",
      "File \u001b[1;32m~\\anaconda3\\Lib\\site-packages\\cvzone\\HandTrackingModule.py:10\u001b[0m\n\u001b[0;32m      7\u001b[0m \u001b[38;5;28;01mimport\u001b[39;00m \u001b[38;5;21;01mmath\u001b[39;00m\n\u001b[0;32m      9\u001b[0m \u001b[38;5;28;01mimport\u001b[39;00m \u001b[38;5;21;01mcv2\u001b[39;00m\n\u001b[1;32m---> 10\u001b[0m \u001b[38;5;28;01mimport\u001b[39;00m \u001b[38;5;21;01mmediapipe\u001b[39;00m \u001b[38;5;28;01mas\u001b[39;00m \u001b[38;5;21;01mmp\u001b[39;00m\n\u001b[0;32m     13\u001b[0m \u001b[38;5;28;01mclass\u001b[39;00m \u001b[38;5;21;01mHandDetector\u001b[39;00m:\n\u001b[0;32m     14\u001b[0m \u001b[38;5;250m    \u001b[39m\u001b[38;5;124;03m\"\"\"\u001b[39;00m\n\u001b[0;32m     15\u001b[0m \u001b[38;5;124;03m    Finds Hands using the mediapipe library. Exports the landmarks\u001b[39;00m\n\u001b[0;32m     16\u001b[0m \u001b[38;5;124;03m    in pixel format. Adds extra functionalities like finding how\u001b[39;00m\n\u001b[0;32m     17\u001b[0m \u001b[38;5;124;03m    many fingers are up or the distance between two fingers. Also\u001b[39;00m\n\u001b[0;32m     18\u001b[0m \u001b[38;5;124;03m    provides bounding box info of the hand found.\u001b[39;00m\n\u001b[0;32m     19\u001b[0m \u001b[38;5;124;03m    \"\"\"\u001b[39;00m\n",
      "\u001b[1;31mModuleNotFoundError\u001b[0m: No module named 'mediapipe'"
     ]
    }
   ],
   "source": [
    "import cv2\n",
    "from cvzone.HandTrackingModule import HandDetector\n",
    "\n",
    "# Initialize the video feed and hand detector\n",
    "cap = cv2.VideoCapture(0)\n",
    "detector = HandDetector(maxHands=1, detectionCon=0.8)\n",
    "\n",
    "while True:\n",
    "    # Read a frame\n",
    "    success, img = cap.read()\n",
    "    # Detect hands in the frame\n",
    "    hands, img = detector.findHands(img)\n",
    "\n",
    "    # Process each detected hand\n",
    "    if hands:\n",
    "        # Get landmark data for the first hand\n",
    "        hand1 = hands[0]\n",
    "        lmList = hand1[\"lmList\"]  # List of 21 hand landmark points\n",
    "        bbox = hand1[\"bbox\"]  # Bounding box info\n",
    "\n",
    "        # Example: Draw a circle at the tip of the index finger\n",
    "        cv2.circle(img, (lmList[8][0], lmList[8][1]), 10, (255, 0, 0), cv2.FILLED)\n",
    "\n",
    "    # Display the frame\n",
    "    cv2.imshow(\"Image\", img)\n",
    "    if cv2.waitKey(1) & 0xFF == ord(\"q\"):\n",
    "        break\n",
    "\n",
    "cap.release()\n",
    "cv2.destroyAllWindows()\n"
   ]
  },
  {
   "cell_type": "code",
   "execution_count": null,
   "id": "b2fadb3e-2b7a-49e8-806d-c2ef77793220",
   "metadata": {},
   "outputs": [],
   "source": []
  }
 ],
 "metadata": {
  "kernelspec": {
   "display_name": "Python 3 (ipykernel)",
   "language": "python",
   "name": "python3"
  },
  "language_info": {
   "codemirror_mode": {
    "name": "ipython",
    "version": 3
   },
   "file_extension": ".py",
   "mimetype": "text/x-python",
   "name": "python",
   "nbconvert_exporter": "python",
   "pygments_lexer": "ipython3",
   "version": "3.11.10"
  }
 },
 "nbformat": 4,
 "nbformat_minor": 5
}
