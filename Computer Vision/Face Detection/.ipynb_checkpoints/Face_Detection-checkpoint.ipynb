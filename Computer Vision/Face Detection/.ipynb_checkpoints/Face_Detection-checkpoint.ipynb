{
 "cells": [
  {
   "cell_type": "markdown",
   "id": "d2375b3c-d72e-4a3d-b023-c9caadfa99b2",
   "metadata": {},
   "source": [
    "## This project to make Face_Dectection\n",
    "##### I used pretrained model to make detection (The Viola Jones algorith)\n",
    "##### The Viola Jones algorithm has four main steps, which we shall discuss in the sections to follow:\n",
    "\n",
    "* Selecting Haar-like features\n",
    "* Creating an integral image\n",
    "* Running AdaBoost training\n",
    "* Creating classifier cascades"
   ]
  },
  {
   "cell_type": "code",
   "execution_count": null,
   "id": "6b065150-0966-4829-b440-37031fd9a4f0",
   "metadata": {},
   "outputs": [],
   "source": [
    "# import opencv linrary to make face detection\n",
    "import cv2"
   ]
  },
  {
   "cell_type": "code",
   "execution_count": 2,
   "id": "2b79c016-ef6e-4df2-a935-618fa02959fe",
   "metadata": {},
   "outputs": [],
   "source": [
    "# load the pretrained algorithma to make the prediction\n",
    "face=cv2.CascadeClassifier(\"haarcascade_frontalface_default.xml\")"
   ]
  },
  {
   "cell_type": "code",
   "execution_count": 3,
   "id": "749e7f57-93d4-412e-95a5-59b651de8dcc",
   "metadata": {},
   "outputs": [],
   "source": [
    "# to open the the camera of the video\n",
    "cap=cv2.VideoCapture(0)"
   ]
  },
  {
   "cell_type": "code",
   "execution_count": 4,
   "id": "68e2272a-1dde-4b8f-bef6-e97a34b88642",
   "metadata": {},
   "outputs": [],
   "source": [
    "while cap.isOpened():\n",
    "    _, img=cap.read()\n",
    "\n",
    "# convert the color of the photo to gray scale \n",
    "    gray= cv2.cvtColor(img , cv2.COLOR_BGR2GRAY)\n",
    "# detectMulti the face from the photo(4 adaboost )\n",
    "    faces=face.detectMultiScale(gray , 1.1,4 )\n",
    "   \n",
    "\n",
    "    for ( x , y , w , h ) in faces:\n",
    "        cv2.rectangle( img , (x,y) , (x+w , y+h) ,(255,1,3),2)\n",
    "        \n",
    "    # Display the output\n",
    "    cv2.imshow('img' , img)\n",
    "    if cv2.waitKey(1)== ord('q'):\n",
    "        cv2.destroyAllWindows()\n",
    "        break\n",
    "        \n",
    "        \n",
    "cap.release()\n",
    "cv2.destroyAllWindows()"
   ]
  },
  {
   "cell_type": "code",
   "execution_count": null,
   "id": "cec722ee-9b44-4c3e-9709-64f575a65e04",
   "metadata": {},
   "outputs": [],
   "source": []
  }
 ],
 "metadata": {
  "kernelspec": {
   "display_name": "Python 3 (ipykernel)",
   "language": "python",
   "name": "python3"
  },
  "language_info": {
   "codemirror_mode": {
    "name": "ipython",
    "version": 3
   },
   "file_extension": ".py",
   "mimetype": "text/x-python",
   "name": "python",
   "nbconvert_exporter": "python",
   "pygments_lexer": "ipython3",
   "version": "3.9.7"
  }
 },
 "nbformat": 4,
 "nbformat_minor": 5
}
