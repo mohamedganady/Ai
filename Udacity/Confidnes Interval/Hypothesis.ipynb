{
 "cells": [
  {
   "cell_type": "code",
   "execution_count": 28,
   "id": "13a7c1d8-b4e1-4b55-b675-853f8110d47e",
   "metadata": {},
   "outputs": [
    {
     "data": {
      "text/html": [
       "<div>\n",
       "<style scoped>\n",
       "    .dataframe tbody tr th:only-of-type {\n",
       "        vertical-align: middle;\n",
       "    }\n",
       "\n",
       "    .dataframe tbody tr th {\n",
       "        vertical-align: top;\n",
       "    }\n",
       "\n",
       "    .dataframe thead th {\n",
       "        text-align: right;\n",
       "    }\n",
       "</style>\n",
       "<table border=\"1\" class=\"dataframe\">\n",
       "  <thead>\n",
       "    <tr style=\"text-align: right;\">\n",
       "      <th></th>\n",
       "      <th>user_id</th>\n",
       "      <th>age</th>\n",
       "      <th>drinks_coffee</th>\n",
       "      <th>height</th>\n",
       "    </tr>\n",
       "  </thead>\n",
       "  <tbody>\n",
       "    <tr>\n",
       "      <th>0</th>\n",
       "      <td>4509</td>\n",
       "      <td>&lt;21</td>\n",
       "      <td>False</td>\n",
       "      <td>64.538179</td>\n",
       "    </tr>\n",
       "    <tr>\n",
       "      <th>1</th>\n",
       "      <td>1864</td>\n",
       "      <td>&gt;=21</td>\n",
       "      <td>True</td>\n",
       "      <td>65.824249</td>\n",
       "    </tr>\n",
       "    <tr>\n",
       "      <th>2</th>\n",
       "      <td>2060</td>\n",
       "      <td>&lt;21</td>\n",
       "      <td>False</td>\n",
       "      <td>71.319854</td>\n",
       "    </tr>\n",
       "    <tr>\n",
       "      <th>3</th>\n",
       "      <td>7875</td>\n",
       "      <td>&gt;=21</td>\n",
       "      <td>True</td>\n",
       "      <td>68.569404</td>\n",
       "    </tr>\n",
       "    <tr>\n",
       "      <th>4</th>\n",
       "      <td>6254</td>\n",
       "      <td>&lt;21</td>\n",
       "      <td>True</td>\n",
       "      <td>64.020226</td>\n",
       "    </tr>\n",
       "  </tbody>\n",
       "</table>\n",
       "</div>"
      ],
      "text/plain": [
       "   user_id   age  drinks_coffee     height\n",
       "0     4509   <21          False  64.538179\n",
       "1     1864  >=21           True  65.824249\n",
       "2     2060   <21          False  71.319854\n",
       "3     7875  >=21           True  68.569404\n",
       "4     6254   <21           True  64.020226"
      ]
     },
     "execution_count": 28,
     "metadata": {},
     "output_type": "execute_result"
    }
   ],
   "source": [
    "# read necessary libraries and dataset\n",
    "import numpy as np\n",
    "import pandas as pd\n",
    "import matplotlib.pyplot as plt \n",
    "%matplotlib inline\n",
    "\n",
    "np.random.seed(44)\n",
    "df = pd.read_csv(\"coffee_dataset.csv\")\n",
    "df.head()"
   ]
  },
  {
   "cell_type": "code",
   "execution_count": 4,
   "id": "a5b3ddcd-3ba5-4892-924b-051c778d889f",
   "metadata": {},
   "outputs": [],
   "source": [
    "df_sample = df.sample(150)"
   ]
  },
  {
   "cell_type": "code",
   "execution_count": 5,
   "id": "4b639672-55af-4872-87cd-56587882519d",
   "metadata": {},
   "outputs": [],
   "source": [
    "means=[]\n",
    "for i in range(10000):\n",
    "    df_ss = df_sample.sample(150 , replace =True)\n",
    "    means.append(df_ss.height.mean())"
   ]
  },
  {
   "cell_type": "code",
   "execution_count": 19,
   "id": "8aa457d0-3af0-438e-8ed3-f454e50fbe76",
   "metadata": {},
   "outputs": [],
   "source": [
    "lower , upper =np.percentile(means ,2.5) , np.percentile(means , 97.5)"
   ]
  },
  {
   "cell_type": "code",
   "execution_count": 23,
   "id": "05eb1244-24c1-4e2b-a5db-69e85262f887",
   "metadata": {},
   "outputs": [
    {
     "data": {
      "text/plain": [
       "<matplotlib.lines.Line2D at 0x23cc3eb7b20>"
      ]
     },
     "execution_count": 23,
     "metadata": {},
     "output_type": "execute_result"
    },
    {
     "data": {
      "image/png": "[encoded data removed]",
      "text/plain": [
       "<Figure size 432x288 with 1 Axes>"
      ]
     },
     "metadata": {
      "needs_background": "light"
     },
     "output_type": "display_data"
    }
   ],
   "source": [
    "plt.hist(means);\n",
    "plt.axvline(x=lower, color='r', linewidth=5)\n",
    "plt.axvline(x=upper , color='r', linewidth=5)"
   ]
  },
  {
   "cell_type": "code",
   "execution_count": null,
   "id": "295b40fc-ebc9-4f48-b208-8a30f9135543",
   "metadata": {},
   "outputs": [],
   "source": []
  },
  {
   "cell_type": "markdown",
   "id": "ac64fcc8-ba9a-4dc2-af75-b4f63b1c3f94",
   "metadata": {},
   "source": [
    "`1.` If you were interested in studying whether the average height for coffee drinkers is the same as for non-coffee drinkers, what would the null and alternative hypotheses be?  Write them in the cell below, and use your answer to answer the first quiz question below."
   ]
  },
  {
   "cell_type": "code",
   "execution_count": 24,
   "id": "46d898e0-3776-4d4a-9587-d0f5d9988c8c",
   "metadata": {},
   "outputs": [],
   "source": [
    "df = pd.read_csv(\"coffee_dataset.csv\")"
   ]
  },
  {
   "cell_type": "code",
   "execution_count": 25,
   "id": "8f78189f-2176-4f91-b043-bbbc736b3d7c",
   "metadata": {},
   "outputs": [],
   "source": [
    "df_sample = df.sample(150) "
   ]
  },
  {
   "cell_type": "code",
   "execution_count": 31,
   "id": "87d3f808-e7c3-4d88-9100-80127ca290e5",
   "metadata": {},
   "outputs": [],
   "source": [
    "nocoff , coff , diff = [],[],[] \n",
    "\n",
    "for i in range(10000):\n",
    "    bootsamp =  df_sample.sample(150 , replace = True)\n",
    "    coffee_means = bootsamp[bootsamp['drinks_coffee'] == True][\"height\"].mean()\n",
    "    nocoffee_means = bootsamp[bootsamp[\"drinks_coffee\"]== False][\"height\"].mean()\n",
    "    \n",
    "    \n",
    "    nocoff.append(nocoffee_means)\n",
    "    coff.append(coffee_means)\n",
    "    diff.append(coffee_means-nocoffee_means)"
   ]
  },
  {
   "cell_type": "code",
   "execution_count": 33,
   "id": "696969c8-eb6c-4b3b-b2aa-6f3b5cbee4e4",
   "metadata": {},
   "outputs": [
    {
     "data": {
      "image/png": "[encoded data removed]",
      "text/plain": [
       "<Figure size 432x288 with 1 Axes>"
      ]
     },
     "metadata": {
      "needs_background": "light"
     },
     "output_type": "display_data"
    }
   ],
   "source": [
    "plt.hist(nocoff);"
   ]
  },
  {
   "cell_type": "code",
   "execution_count": 35,
   "id": "c5ee3ac8-9256-48bc-bd6e-7ef25cebca71",
   "metadata": {},
   "outputs": [
    {
     "data": {
      "image/png": "[encoded data removed]",
      "text/plain": [
       "<Figure size 432x288 with 1 Axes>"
      ]
     },
     "metadata": {
      "needs_background": "light"
     },
     "output_type": "display_data"
    }
   ],
   "source": [
    "plt.hist(coff);"
   ]
  },
  {
   "cell_type": "code",
   "execution_count": 38,
   "id": "d53c2b3e-2c7c-49ad-98d9-e9f8c4744f3b",
   "metadata": {},
   "outputs": [
    {
     "data": {
      "image/png": "[encoded data removed]",
      "text/plain": [
       "<Figure size 432x288 with 1 Axes>"
      ]
     },
     "metadata": {
      "needs_background": "light"
     },
     "output_type": "display_data"
    }
   ],
   "source": [
    "plt.hist(diff  );"
   ]
  },
  {
   "cell_type": "code",
   "execution_count": 42,
   "id": "df3a60a5-e316-4244-9294-aa87493afcdf",
   "metadata": {},
   "outputs": [
    {
     "data": {
      "text/plain": [
       "0.4568490740041289"
      ]
     },
     "execution_count": 42,
     "metadata": {},
     "output_type": "execute_result"
    }
   ],
   "source": [
    "np.std(nocoff)"
   ]
  },
  {
   "cell_type": "code",
   "execution_count": 43,
   "id": "14eb9498-513c-4a44-9bba-07ac2e5bce09",
   "metadata": {},
   "outputs": [
    {
     "data": {
      "text/plain": [
       "0.2667947748750984"
      ]
     },
     "execution_count": 43,
     "metadata": {},
     "output_type": "execute_result"
    }
   ],
   "source": [
    "np.std(coff)"
   ]
  },
  {
   "cell_type": "code",
   "execution_count": 44,
   "id": "15fd6bf8-a46a-43ee-b415-6f88ba6eb839",
   "metadata": {},
   "outputs": [
    {
     "data": {
      "text/plain": [
       "0.5287839994061307"
      ]
     },
     "execution_count": 44,
     "metadata": {},
     "output_type": "execute_result"
    }
   ],
   "source": [
    "np.std(diff)"
   ]
  },
  {
   "cell_type": "code",
   "execution_count": 47,
   "id": "b006b0c2-9492-4553-a296-838f0d76ebb4",
   "metadata": {},
   "outputs": [],
   "source": [
    "d = np.random.normal(70 , np.std(nocoff) , 10000) # to dreawing normal distribustion \n",
    "A = np.random.normal(70, np.std(coff) , 10000 )"
   ]
  },
  {
   "cell_type": "code",
   "execution_count": 48,
   "id": "a561ac15-25ae-4bb2-a596-868f2bb4a85c",
   "metadata": {},
   "outputs": [
    {
     "data": {
      "image/png": "[encoded data removed]",
      "text/plain": [
       "<Figure size 432x288 with 1 Axes>"
      ]
     },
     "metadata": {
      "needs_background": "light"
     },
     "output_type": "display_data"
    }
   ],
   "source": [
    "plt.hist(d);\n",
    "plt.hist(A);"
   ]
  },
  {
   "cell_type": "code",
   "execution_count": null,
   "id": "44142452-65d4-424f-bb91-b1c91aa7b479",
   "metadata": {},
   "outputs": [],
   "source": []
  }
 ],
 "metadata": {
  "kernelspec": {
   "display_name": "Python 3 (ipykernel)",
   "language": "python",
   "name": "python3"
  },
  "language_info": {
   "codemirror_mode": {
    "name": "ipython",
    "version": 3
   },
   "file_extension": ".py",
   "mimetype": "text/x-python",
   "name": "python",
   "nbconvert_exporter": "python",
   "pygments_lexer": "ipython3",
   "version": "3.9.7"
  }
 },
 "nbformat": 4,
 "nbformat_minor": 5
}
